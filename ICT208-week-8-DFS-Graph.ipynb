{
 "cells": [
  {
   "cell_type": "markdown",
   "id": "e5e8194a",
   "metadata": {},
   "source": [
    "# Depth-First Search (DFS) on a Graph\n",
    "\n",
    "## Overview\n",
    "\n",
    "Depth-First Search (DFS) is a fundamental graph traversal algorithm used to explore nodes and edges of a graph. The algorithm starts at a given node and explores as far as possible along each branch before backtracking.\n",
    "\n",
    "DFS is used in various applications such as finding connected components, topological sorting, cycle detection, and solving puzzles like mazes.\n",
    "\n",
    "In this notebook, we will implement DFS in C++ using an adjacency matrix to represent the graph. We'll then walk through the algorithm step-by-step.\n",
    "\n",
    "Let's get started!\n"
   ]
  },
  {
   "cell_type": "markdown",
   "id": "0163de57",
   "metadata": {},
   "source": [
    "## Learning Objectives\n",
    "\n",
    "By the end of this notebook, you will:\n",
    "\n",
    "- Understand the concept of Depth-First Search (DFS).\n",
    "- Learn how to implement DFS in C++ using an adjacency matrix.\n",
    "- Visualize the traversal of the graph using DFS.\n"
   ]
  },
  {
   "cell_type": "markdown",
   "id": "264e1ece",
   "metadata": {},
   "source": [
    "### 1. Graph Representation Using an Adjacency Matrix\n",
    "\n",
    "We use a class called `Graph` to represent the graph using an adjacency matrix. The matrix is initialized to represent a graph with `V` vertices (nodes), and all elements in the matrix are initially set to 0, meaning there are no edges between any vertices.\n"
   ]
  },
  {
   "cell_type": "code",
   "execution_count": 1,
   "id": "3afe264c",
   "metadata": {},
   "outputs": [],
   "source": [
    "#include <iostream>\n",
    "#include <vector>\n",
    "using namespace std;\n",
    "\n",
    "class Graph {\n",
    "private:\n",
    "    int V; // Number of vertices\n",
    "    int** adj; // Pointer to the adjacency matrix\n",
    "\n",
    "public:\n",
    "    // Constructor to initialize the graph\n",
    "    Graph(int V) {\n",
    "        this->V = V;\n",
    "        adj = new int*[V];\n",
    "        for (int i = 0; i < V; i++) {\n",
    "            adj[i] = new int[V];\n",
    "            for (int j = 0; j < V; j++) {\n",
    "                adj[i][j] = 0; // Initialize adjacency matrix with 0 (no edges)\n",
    "            }\n",
    "        }\n",
    "    }\n",
    "\n",
    "    // Add an edge between vertex u and vertex v\n",
    "    void addEdge(int u, int v) {\n",
    "        adj[u][v] = 1;  // Set adjacency matrix value to 1\n",
    "        adj[v][u] = 1;  // Since the graph is undirected\n",
    "    }\n",
    "    \n",
    "    // Remove an edge between vertex u and vertex v\n",
    "    void removeEdge(int u, int v) {\n",
    "        adj[u][v] = 0;  // Set adjacency matrix value to 0\n",
    "        adj[v][u] = 0;  // Since the graph is undirected\n",
    "    }\n",
    "    \n",
    "    // Display the adjacency matrix\n",
    "    void displayMatrix() {\n",
    "        cout << \"Adjacency Matrix:\" << endl;\n",
    "        for (int i = 0; i < V; i++) {\n",
    "            for (int j = 0; j < V; j++) {\n",
    "                cout << adj[i][j] << \" \";\n",
    "            }\n",
    "            cout << endl;\n",
    "        }\n",
    "    }\n",
    "\n",
    "    // Destructor to clean up memory\n",
    "    ~Graph() {\n",
    "        for (int i = 0; i < V; i++) {\n",
    "            delete[] adj[i];\n",
    "        }\n",
    "        delete[] adj;\n",
    "    }\n",
    "    \n",
    "    // Helper function for DFS (DFSUtil)\n",
    "    void DFSUtil(int v, vector<int>& visited) {\n",
    "        // Mark the current node as visited and print it\n",
    "        visited[v] = 1;\n",
    "        cout << v << \" \";\n",
    "\n",
    "        // Recur for all the vertices adjacent to this vertex\n",
    "        for (int i = 0; i < V; i++) {\n",
    "            if (adj[v][i] == 1 && visited[i] == 0) {  // Visit only unvisited neighbors\n",
    "                DFSUtil(i, visited);\n",
    "            }\n",
    "        }\n",
    "    }\n",
    "    \n",
    "    // Depth-First Search traversal starting from vertex 'v'\n",
    "    void DFS(int v) {\n",
    "        // Create a visited array to mark visited vertices\n",
    "        vector<int> visited(V, 0);  // Initially, all vertices are unvisited (marked 0)\n",
    "\n",
    "        // Call the recursive DFS helper function (DFSUtil)\n",
    "        DFSUtil(v, visited);\n",
    "    }\n",
    "};"
   ]
  },
  {
   "cell_type": "markdown",
   "id": "c724708d",
   "metadata": {},
   "source": [
    "### Explanation\n",
    "**Graph Constructor:** \n",
    "- Initializes the adjacency matrix for V vertices. \n",
    "- Initially, there are no edges, so all values in the matrix are set to 0.\n",
    "\n",
    "**Adding Edges Between Vertices**\n",
    "\n",
    "- In an undirected graph, if there is an edge between vertex `u` and vertex `v`, we set both `adj[u][v]` and `adj[v][u]` to 1 in the adjacency matrix. \n",
    "- This indicates that there is a connection between the two vertices.\n",
    "\n",
    "**Displaying the Adjacency Matrix**\n",
    "\n",
    "- To visualize the structure of the graph, we can print the adjacency matrix. This will help you see the connections (edges) between vertices.\n",
    "\n",
    "**Depth-First Search Helper Function (DFSUtil)**\n",
    "\n",
    "- The `DFSUtil` function performs the recursive part of DFS. \n",
    "- It marks the current vertex `v` as visited, prints it, and recursively visits all neighbors.."
   ]
  },
  {
   "cell_type": "code",
   "execution_count": null,
   "id": "186bed17",
   "metadata": {},
   "outputs": [],
   "source": [
    "//=== DO NOT RUN THIS CELL !!! ===\n",
    "//Helper function for DFS (DFSUtil)\n",
    "void DFSUtil(int v, vector<int>& visited) {\n",
    "    // Mark the current node as visited and print it\n",
    "    visited[v] = 1;\n",
    "    cout << v << \" \";\n",
    "\n",
    "    // Recur for all the vertices adjacent to this vertex\n",
    "    for (int i = 0; i < V; i++) {\n",
    "        if (adj[v][i] == 1 && visited[i] == 0) {  // Visit only unvisited neighbors\n",
    "            DFSUtil(i, visited);\n",
    "        }\n",
    "    }\n",
    "}"
   ]
  },
  {
   "cell_type": "markdown",
   "id": "9540d402",
   "metadata": {},
   "source": [
    "**Depth-First Search (DFS) Traversal**\n",
    "\n",
    "- The main `DFS()` function starts the traversal from a given vertex. \n",
    "- It initializes a `visited` array to keep track of which vertices have been visited, and it calls the helper function `DFSUtil()` to begin the traversal from vertex `v`."
   ]
  },
  {
   "cell_type": "code",
   "execution_count": null,
   "id": "6c5c3ce6",
   "metadata": {},
   "outputs": [],
   "source": [
    "//=== DO NOT RUN THIS CELL !!! ===\n",
    "// Depth-First Search traversal starting from vertex 'v'\n",
    "void DFS(int v) {\n",
    "    // Create a visited array to mark visited vertices\n",
    "    vector<int> visited(V, 0);  // Initially, all vertices are unvisited (marked 0)\n",
    "\n",
    "    // Call the recursive DFS helper function (DFSUtil)\n",
    "    DFSUtil(v, visited);\n",
    "}\n"
   ]
  },
  {
   "cell_type": "markdown",
   "id": "b52102f7",
   "metadata": {},
   "source": [
    "### Putting it All Together\n",
    "\n",
    "We will now create a graph, add edges, display the adjacency matrix, and then perform a DFS traversal starting from vertex `0`.\n",
    "\n",
    "    (0)---(1)---(4)\n",
    "     |    / |    \n",
    "     |   /  |\n",
    "    (3)--(2)\n",
    "\n"
   ]
  },
  {
   "cell_type": "code",
   "execution_count": 2,
   "id": "c3e7cd91",
   "metadata": {},
   "outputs": [],
   "source": [
    "int main() {\n",
    "    Graph g(5); // Create a graph with 5 vertices\n",
    "\n",
    "    // Add edges between vertices\n",
    "    g.addEdge(0, 1);\n",
    "    g.addEdge(0, 3);\n",
    "    g.addEdge(1, 2);\n",
    "    g.addEdge(1, 3);\n",
    "    g.addEdge(1, 4);\n",
    "    g.addEdge(2, 3);\n",
    "    g.addEdge(3, 4);\n",
    "\n",
    "    // Display the adjacency matrix\n",
    "    g.displayMatrix();\n",
    "\n",
    "    // Perform DFS starting from vertex 0\n",
    "    cout << \"\\nDepth-First Search (starting from vertex 0):\" << endl;\n",
    "    g.DFS(0);\n",
    "\n",
    "    return 0;\n",
    "}\n"
   ]
  },
  {
   "cell_type": "markdown",
   "id": "5a3143ab",
   "metadata": {},
   "source": [
    "### Output of the Program\n",
    "\n",
    "Here is the output showing the adjacency matrix and the DFS traversal order:\n"
   ]
  },
  {
   "cell_type": "code",
   "execution_count": 3,
   "id": "5387caf1",
   "metadata": {
    "scrolled": true
   },
   "outputs": [
    {
     "name": "stdout",
     "output_type": "stream",
     "text": [
      "Adjacency Matrix:\n",
      "0 1 0 1 0 \n",
      "1 0 1 1 1 \n",
      "0 1 0 1 0 \n",
      "1 1 1 0 1 \n",
      "0 1 0 1 0 \n",
      "\n",
      "Depth-First Search (starting from vertex 0):\n",
      "0 1 2 3 4 "
     ]
    },
    {
     "data": {
      "text/plain": [
       "0"
      ]
     },
     "execution_count": 3,
     "metadata": {},
     "output_type": "execute_result"
    }
   ],
   "source": [
    "main()"
   ]
  },
  {
   "cell_type": "markdown",
   "id": "40476375",
   "metadata": {},
   "source": [
    "### Depth-First Search (DFS) in a Graph:\n",
    "\n",
    "**Depth-First Search (DFS)** is a graph traversal technique where you start from a given node (or vertex) and explore as far as possible along each branch before backtracking. DFS follows a **deep** approach, meaning it goes deep into the graph by exploring one adjacent vertex at a time before going back to explore other vertices.\n",
    "\n",
    "Here's how DFS works in a graph step-by-step:\n",
    "\n",
    "---\n",
    "\n",
    "### Steps in DFS:\n",
    "\n",
    "1. **Start from the initial vertex (root)**: \n",
    "   - Mark the starting vertex as visited.\n",
    "   - Process (or print) the current vertex.\n",
    "\n",
    "2. **Explore adjacent vertices**:\n",
    "   - Look at all vertices adjacent to the current vertex.\n",
    "   - For each adjacent vertex that has **not** been visited yet:\n",
    "     - Visit it.\n",
    "     - Recursively perform DFS on this vertex (which means treating this adjacent vertex as a new starting vertex and repeating the process).\n",
    "\n",
    "3. **Backtracking**:\n",
    "   - If there are no more unvisited adjacent vertices, backtrack to the previous vertex and continue checking for other unvisited adjacent vertices.\n",
    "   \n",
    "4. **Repeat the process** until all reachable vertices are visited.\n",
    "\n",
    "DFS can be applied to both directed and undirected graphs and can be implemented recursively (like in the provided example) or iteratively using a stack.\n",
    "\n",
    "---\n",
    "\n",
    "### DFS Example Walkthrough (Based on the Provided Code):\n",
    "\n",
    "#### Graph (Adjacency Matrix):\n",
    "```\n",
    "0  1  0  1  0\n",
    "1  0  1  1  1\n",
    "0  1  0  1  0\n",
    "1  1  1  0  1\n",
    "0  1  0  1  0\n",
    "```\n",
    "\n",
    "This is an undirected graph with the following connections:\n",
    "\n",
    "    (0)---(1)---(4)\n",
    "     |    / |    \n",
    "     |   /  |\n",
    "    (3)--(2)\n",
    "\n",
    "Let’s perform a DFS starting from vertex 0.\n",
    "\n",
    "---\n",
    "\n",
    "### DFS Starting from Vertex 0:\n",
    "1. **Vertex 0**:\n",
    "   - Mark vertex 0 as visited.\n",
    "   - Process vertex 0 (print it): `0`\n",
    "   - Adjacent vertices: {1, 3}\n",
    "   \n",
    "   Move to vertex 1 (first unvisited adjacent vertex).\n",
    "\n",
    "2. **Vertex 1**:\n",
    "   - Mark vertex 1 as visited.\n",
    "   - Process vertex 1 (print it): `0 1`\n",
    "   - Adjacent vertices: {0, 2, 3, 4}\n",
    "   \n",
    "   Vertex 0 is already visited, so move to vertex 2 (next unvisited adjacent vertex).\n",
    "\n",
    "3. **Vertex 2**:\n",
    "   - Mark vertex 2 as visited.\n",
    "   - Process vertex 2 (print it): `0 1 2`\n",
    "   - Adjacent vertices: {1, 3}\n",
    "   \n",
    "   Vertex 1 is already visited, so move to vertex 3 (next unvisited adjacent vertex).\n",
    "\n",
    "4. **Vertex 3**:\n",
    "   - Mark vertex 3 as visited.\n",
    "   - Process vertex 3 (print it): `0 1 2 3`\n",
    "   - Adjacent vertices: {0, 1, 2, 4}\n",
    "   \n",
    "   Vertices 0, 1, and 2 are already visited, so move to vertex 4 (next unvisited adjacent vertex).\n",
    "\n",
    "5. **Vertex 4**:\n",
    "   - Mark vertex 4 as visited.\n",
    "   - Process vertex 4 (print it): `0 1 2 3 4`\n",
    "   - Adjacent vertices: {1, 3}\n",
    "   \n",
    "   Both vertices 1 and 3 are already visited, so backtrack.\n",
    "\n",
    "6. **Backtracking**:\n",
    "   - Since all adjacent vertices of vertex 4 are visited, backtrack to vertex 3.\n",
    "   - Vertex 3 has no more unvisited adjacent vertices, so backtrack to vertex 2.\n",
    "   - Vertex 2 has no more unvisited adjacent vertices, so backtrack to vertex 1.\n",
    "   - Vertex 1 has no more unvisited adjacent vertices, so backtrack to vertex 0.\n",
    "   - Vertex 0 has no more unvisited adjacent vertices.\n",
    "\n",
    "7. **End**:\n",
    "   - All vertices reachable from vertex 0 have been visited.\n",
    "   \n",
    "The traversal is now complete, and the final DFS order of visited vertices is: `0 1 2 3 4`.\n",
    "\n",
    "---\n",
    "\n",
    "### DFS Characteristics:\n",
    "\n",
    "- **Time Complexity**: \n",
    "  - The time complexity of DFS is \\(O(V + E)\\), where \\(V\\) is the number of vertices and \\(E\\) is the number of edges.\n",
    "  - This is because every vertex is visited once, and for every vertex, we traverse all its edges once.\n",
    "\n",
    "- **Space Complexity**: \n",
    "  - In the recursive implementation, the space complexity is \\(O(V)\\) due to the recursion stack (in the worst case, all vertices might be placed on the stack).\n",
    "\n",
    "- **Applications**:\n",
    "  - DFS is used in various graph algorithms such as:\n",
    "    - Finding connected components.\n",
    "    - Detecting cycles in a graph.\n",
    "    - Solving puzzles and games (like mazes).\n",
    "    - Topological sorting (in directed acyclic graphs).\n",
    "    - Pathfinding algorithms.\n",
    "\n",
    "### DFS Recursive vs Iterative:\n",
    "\n",
    "- **Recursive DFS**:\n",
    "  - It is easier to implement but may cause a stack overflow for deep graphs with many vertices.\n",
    "  \n",
    "- **Iterative DFS**:\n",
    "  - DFS can also be implemented iteratively using an explicit stack data structure to avoid recursion.\n",
    "\n",
    "---\n"
   ]
  },
  {
   "cell_type": "markdown",
   "id": "f3888c2f",
   "metadata": {},
   "source": [
    "### Conclusion\n",
    "\n",
    "In this notebook, we broke down the Depth-First Search (DFS) algorithm step-by-step. We explored how to represent a graph using an adjacency matrix, how to add edges, and how to implement DFS both recursively and iteratively.\n",
    "\n",
    "# 2. Tasks:\n",
    "- Try modifying the graph by adding or removing edges and observe how the DFS traversal changes.\n",
    "\n",
    "\n",
    "---"
   ]
  },
  {
   "cell_type": "markdown",
   "id": "c645a8a2",
   "metadata": {},
   "source": [
    "---\n",
    "Let's experiment with adding and removing edges in the graph and observe how the DFS traversal changes. Here's a breakdown of what happens when edges are added or removed.\n",
    "\n",
    "### Initial Graph\n",
    "```\n",
    "    (0)---(1)---(4)\n",
    "     |    / |    \n",
    "     |   /  |\n",
    "    (3)--(2)\n",
    "```\n",
    "\n",
    "### Initial DFS Traversal (Starting from Vertex 0):\n",
    "```plaintext\n",
    "0 1 2 3 4\n",
    "```"
   ]
  },
  {
   "cell_type": "code",
   "execution_count": 19,
   "id": "ff822a7b",
   "metadata": {},
   "outputs": [],
   "source": [
    "//Build the initial Graph\n",
    "Graph g2(5); // Create a graph with 5 vertices\n",
    "\n",
    "// Add edges between vertices\n",
    "g2.addEdge(0, 1);\n",
    "g2.addEdge(0, 3);\n",
    "g2.addEdge(1, 2);\n",
    "g2.addEdge(1, 3);\n",
    "g2.addEdge(1, 4);\n",
    "g2.addEdge(2, 3);"
   ]
  },
  {
   "cell_type": "markdown",
   "id": "f49e3225",
   "metadata": {},
   "source": [
    "### 1. **Remove the Edge Between Vertices 0 and 3**\n",
    "If we remove the edge between vertices `0` and `3`, the graph changes as follows:\n",
    "\n",
    "```\n",
    "    (0)---(1)---(4)\n",
    "          / |    \n",
    "         /  |\n",
    "    (3)--(2)\n",
    "```\n",
    "\n",
    "In this case, vertex `3` is no longer directly connected to vertex `0`. Therefore, DFS starting from vertex `0` will not visit vertex `3` unless it reaches vertex `3` through a different path (like via vertices `1` and `2`).\n",
    "\n",
    "#### Updated DFS Traversal:\n",
    "```plaintext\n",
    "0 1 2 3 4\n",
    "```\n",
    "Notice that the order of visiting vertices hasn't changed because vertex `3` is still reachable via vertices `1` and `2`.\n",
    "\n",
    "---"
   ]
  },
  {
   "cell_type": "code",
   "execution_count": 20,
   "id": "13a9c856",
   "metadata": {},
   "outputs": [
    {
     "name": "stdout",
     "output_type": "stream",
     "text": [
      "\n",
      "Depth-First Search (starting from vertex 0):\n",
      "0 1 2 3 4 "
     ]
    }
   ],
   "source": [
    "//YOUR CODE HERE\n",
    "//1. Remove the Edge Between Vertices 0 and 3\n",
    "g2.removeEdge(0,3);\n",
    "// Perform DFS starting from vertex 0\n",
    "cout << \"\\nDepth-First Search (starting from vertex 0):\" << endl;\n",
    "g2.DFS(0);\n"
   ]
  },
  {
   "cell_type": "markdown",
   "id": "ddb2796e",
   "metadata": {},
   "source": [
    "### 2. **Add a New Edge Between Vertices 0 and 4**\n",
    "Now, let's add a new edge between vertices `0` and `4`. The graph changes as follows:\n",
    "\n",
    "```\n",
    "    (0)---(1)---(4)\n",
    "         / |    \n",
    "        /  |\n",
    "    (3)--(2)\n",
    "```\n",
    "\n",
    "In this case, vertex `4` becomes directly connected to vertex `0`. May this change the DFS traversal order, as DFS might now visit vertex `4` earlier?.\n",
    "\n",
    "#### Updated DFS Traversal:\n",
    "```plaintext\n",
    "0 1 2 3 4\n",
    "```\n",
    "Even though vertex `4` is now directly connected to vertex `0`, the DFS traversal order remains the same because the recursive DFS implementation follows a consistent order for checking adjacent vertices. The adjacency matrix’s order of checking vertices influences this.\n",
    "\n",
    "---\n",
    "\n"
   ]
  },
  {
   "cell_type": "code",
   "execution_count": 21,
   "id": "2e65d580",
   "metadata": {},
   "outputs": [
    {
     "name": "stdout",
     "output_type": "stream",
     "text": [
      "\n",
      "Depth-First Search (starting from vertex 0):\n",
      "0 1 2 3 4 "
     ]
    }
   ],
   "source": [
    "//YOUR CODE HERE\n",
    "//2. Add a New Edge Between Vertices 0 and 4\n",
    "g2.addEdge(0,4);\n",
    "\n",
    "// Perform DFS starting from vertex 0\n",
    "cout << \"\\nDepth-First Search (starting from vertex 0):\" << endl;\n",
    "g2.DFS(0);\n"
   ]
  },
  {
   "cell_type": "markdown",
   "id": "1da17cd6",
   "metadata": {},
   "source": [
    "### 3. **Remove All Edges from Vertex 0**\n",
    "If we remove the all edge of vertices `0`, the graph looks like this:\n",
    "\n",
    "```\n",
    "    (0)   (1)--(4)\n",
    "          / |    \n",
    "         /  |\n",
    "    (3)--(2) \n",
    "```\n",
    "\n",
    "Here, vertex `0` becomes isolated from the rest of the graph. If we start DFS from vertex `0`, it won't reach other vertices.\n",
    "\n",
    "#### Updated DFS Traversal:\n",
    "```plaintext\n",
    "0 \n",
    "```\n",
    "\n",
    "---\n",
    "\n"
   ]
  },
  {
   "cell_type": "code",
   "execution_count": 24,
   "id": "4e10fe03",
   "metadata": {},
   "outputs": [
    {
     "name": "stdout",
     "output_type": "stream",
     "text": [
      "Adjacency Matrix:\n",
      "0 0 0 0 0 \n",
      "0 0 1 1 1 \n",
      "0 1 0 1 0 \n",
      "0 1 1 0 0 \n",
      "0 1 0 0 0 \n",
      "\n",
      "Depth-First Search (starting from vertex 0):\n",
      "0 "
     ]
    }
   ],
   "source": [
    "g2.displayMatrix();\n",
    "\n",
    "//YOUR CODE HERE\n",
    "//3. Remove all Edges from 0.\n",
    "g2.removeEdge(0,1);\n",
    "g2.removeEdge(0,4);\n",
    "\n",
    "// Perform DFS starting from vertex 0\n",
    "cout << \"\\nDepth-First Search (starting from vertex 0):\" << endl;\n",
    "g2.DFS(0);\n",
    "\n"
   ]
  },
  {
   "cell_type": "markdown",
   "id": "07536506",
   "metadata": {},
   "source": [
    "### 4. **Add a New Edge Between Vertices 0 and 4**\n",
    "Finally, let's add a new edge between vertices `0` and `4`. The graph will change as follows:\n",
    "\n",
    "```\n",
    "    (4)\n",
    "     |  \\\n",
    "     |   \\\n",
    "    (0)   (1)   \n",
    "         / |    \n",
    "        /  |\n",
    "    (3)--(2)\n",
    "```\n",
    "\n",
    "Now, vertex `0` is connected to vertex `4`, which means DFS starting from vertex `0` will eventually reach all vertices via vertex `4`.\n",
    "\n",
    "#### Updated DFS Traversal:\n",
    "```plaintext\n",
    "0 4 1 2 3\n",
    "```\n",
    "\n",
    "---\n",
    "\n"
   ]
  },
  {
   "cell_type": "code",
   "execution_count": 26,
   "id": "ebf51152",
   "metadata": {},
   "outputs": [
    {
     "name": "stdout",
     "output_type": "stream",
     "text": [
      "\n",
      "Depth-First Search (starting from vertex 0):\n",
      "0 4 1 2 3 "
     ]
    }
   ],
   "source": [
    "//YOUR CODE HERE\n",
    "//4. Add a New Edge Between Vertices 0 and 4\n",
    "\n",
    "// Perform DFS starting from vertex 0\n",
    "cout << \"\\nDepth-First Search (starting from vertex 0):\" << endl;\n",
    "\n"
   ]
  },
  {
   "cell_type": "markdown",
   "id": "f3552012",
   "metadata": {},
   "source": [
    "### Conclusion:\n",
    "- **Removing edges** can isolate vertices, making them unreachable by DFS.\n",
    "- **Adding edges** can create new paths in the graph, potentially changing the DFS traversal order.\n",
    "- The exact order of traversal depends on the structure of the graph and the implementation of DFS (how adjacent vertices are checked).\n",
    "\n",
    "Feel free to experiment further with adding or removing edges to see how the DFS traversal changes!"
   ]
  }
 ],
 "metadata": {
  "kernelspec": {
   "display_name": "C++14",
   "language": "C++14",
   "name": "xcpp14"
  },
  "language_info": {
   "codemirror_mode": "text/x-c++src",
   "file_extension": ".cpp",
   "mimetype": "text/x-c++src",
   "name": "c++",
   "version": "14"
  }
 },
 "nbformat": 4,
 "nbformat_minor": 5
}
