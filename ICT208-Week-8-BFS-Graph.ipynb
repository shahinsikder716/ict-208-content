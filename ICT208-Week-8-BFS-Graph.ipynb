{
 "cells": [
  {
   "cell_type": "markdown",
   "id": "bbdbbe67",
   "metadata": {},
   "source": [
    "# **Breadth-First Search (BFS) on a Graph**\n",
    "\n",
    "## **Overview**\n",
    "\n",
    "Breadth-First Search (**BFS**) is a graph traversal algorithm that explores vertices in layers. It starts at a given vertex and explores all its neighboring vertices first, before moving on to their neighbors, and so on. This approach makes BFS different from DFS, which explores as deep as possible in one direction before backtracking.\n",
    "\n",
    "In this notebook, we will implement BFS in C++ using an adjacency matrix to represent the graph. We will walk through the algorithm step-by-step and observe how the BFS traversal differs from DFS.\n"
   ]
  },
  {
   "cell_type": "markdown",
   "id": "b2b9bc8d",
   "metadata": {},
   "source": [
    "## **Learning Objectives**\n",
    "\n",
    "By the end of this notebook, you will:\n",
    "\n",
    "- Understand the concept of **Breadth-First Search (BFS)**.\n",
    "- Learn how to implement BFS in C++ using an adjacency matrix.\n",
    "- Observe how BFS explores the graph level-by-level.\n"
   ]
  },
  {
   "cell_type": "markdown",
   "id": "32642d2a",
   "metadata": {},
   "source": [
    "### **Graph Representation Using an Adjacency Matrix**\n",
    "\n",
    "We will represent the graph using an adjacency matrix. This matrix is initialized to have `V` vertices (nodes), with all elements initially set to 0, meaning no edges exist between any vertices.\n"
   ]
  },
  {
   "cell_type": "code",
   "execution_count": 4,
   "id": "c0c15d01",
   "metadata": {},
   "outputs": [],
   "source": [
    "#include <iostream>\n",
    "#include <vector>\n",
    "#include <queue> // Required for BFS\n",
    "using namespace std;\n",
    "\n",
    "class Graph {\n",
    "private:\n",
    "    int V; // Number of vertices\n",
    "    int** adj; // Pointer to the adjacency matrix\n",
    "\n",
    "public:\n",
    "    // Constructor to initialize the graph with V vertices\n",
    "    Graph(int V) {\n",
    "        this->V = V;\n",
    "        adj = new int*[V];  // Create a 2D array (VxV)\n",
    "        for (int i = 0; i < V; i++) {\n",
    "            adj[i] = new int[V];\n",
    "            for (int j = 0; j < V; j++) {\n",
    "                adj[i][j] = 0; // Initialize adjacency matrix with 0 (no edges)\n",
    "            }\n",
    "        }\n",
    "    }\n",
    "    \n",
    "    // Add an edge between vertex u and vertex v\n",
    "    void addEdge(int u, int v) {\n",
    "        adj[u][v] = 1;  // Set adjacency matrix value to 1\n",
    "        adj[v][u] = 1;  // Since the graph is undirected, set the reverse direction too\n",
    "    }\n",
    "    \n",
    "    // Remove an edge between vertex u and vertex v\n",
    "    void removeEdge(int u, int v) {\n",
    "        adj[u][v] = 0;  // Set adjacency matrix value to 1\n",
    "        adj[v][u] = 0;  // Since the graph is undirected, set the reverse direction too\n",
    "    }\n",
    "    \n",
    "    // Display the adjacency matrix\n",
    "    void displayMatrix() {\n",
    "        cout << \"Adjacency Matrix:\" << endl;\n",
    "        for (int i = 0; i < V; i++) {\n",
    "            for (int j = 0; j < V; j++) {\n",
    "                cout << adj[i][j] << \" \";\n",
    "            }\n",
    "            cout << endl;\n",
    "        }\n",
    "    }\n",
    "    \n",
    "    // Breadth-First Search traversal starting from vertex 'v'\n",
    "    void BFS(int v) {\n",
    "        // Create a visited array to mark visited vertices\n",
    "        vector<int> visited(V, 0);  // Initially, all vertices are unvisited (marked 0)\n",
    "        queue<int> q;  // Queue to explore vertices\n",
    "\n",
    "        // Mark the starting vertex as visited and enqueue it\n",
    "        visited[v] = 1;\n",
    "        q.push(v);\n",
    "\n",
    "        while (!q.empty()) {\n",
    "            // Dequeue a vertex from the front of the queue\n",
    "            int current = q.front();\n",
    "            q.pop();\n",
    "            cout << current << \" \";\n",
    "\n",
    "            // Get all adjacent vertices of the dequeued vertex\n",
    "            for (int i = 0; i < V; i++) {\n",
    "                if (adj[current][i] == 1 && visited[i] == 0) {\n",
    "                    // If the adjacent vertex hasn't been visited, mark it and enqueue it\n",
    "                    visited[i] = 1;\n",
    "                    q.push(i);\n",
    "                }\n",
    "            }\n",
    "        }\n",
    "    }\n",
    "\n",
    "};\n"
   ]
  },
  {
   "cell_type": "markdown",
   "id": "26e48bd2",
   "metadata": {},
   "source": [
    "### Breadth-First Search (BFS) Algorithm: \n",
    "In **BFS**, we start at a given vertex and explore all its neighboring vertices first. Once all neighbors are explored, we move on to their neighbors, continuing until all reachable vertices have been visited. BFS typically uses a **queue** to manage the exploration order.\n",
    "\n",
    "- **Queue for BFS**: We use a `queue<int>` to keep track of the vertices to explore next. BFS enqueues vertices as it explores them and dequeues vertices in the order they were discovered.\n",
    "\n",
    "- **Visited Array**: The visited array ensures that each vertex is only visited once.\n",
    "\n",
    "\n",
    "- **BFS Algorithm**:\n",
    "    - Mark the starting vertex as visited and enqueue it.\n",
    "    - While the queue is not empty:\n",
    "    - Dequeue the front vertex and print it.\n",
    "    - Enqueue all unvisited adjacent vertices.\n",
    "\n",
    "\n"
   ]
  },
  {
   "cell_type": "markdown",
   "id": "e7cf2ee8",
   "metadata": {},
   "source": [
    "### **Putting it All Together**\n",
    "\n",
    "We will now create a graph, add edges, display the adjacency matrix, and then perform a BFS traversal starting from vertex `0`.\n"
   ]
  },
  {
   "cell_type": "code",
   "execution_count": 5,
   "id": "b88471b8",
   "metadata": {},
   "outputs": [],
   "source": [
    "int main() {\n",
    "    Graph g(5); // Create a graph with 5 vertices\n",
    "\n",
    "    // Add edges between vertices\n",
    "    g.addEdge(0, 1);\n",
    "    g.addEdge(0, 3);\n",
    "    g.addEdge(1, 2);\n",
    "    g.addEdge(1, 3);\n",
    "    g.addEdge(1, 4);\n",
    "    g.addEdge(2, 3);\n",
    "    g.addEdge(3, 4);\n",
    "\n",
    "    // Display the adjacency matrix\n",
    "    g.displayMatrix();\n",
    "\n",
    "    // Perform BFS starting from vertex 0\n",
    "    cout << \"\\nBreadth-First Search (starting from vertex 0):\" << endl;\n",
    "    g.BFS(0);\n",
    "\n",
    "    return 0;\n",
    "}\n"
   ]
  },
  {
   "cell_type": "markdown",
   "id": "0cd2ccaa",
   "metadata": {},
   "source": [
    "### **Output of the Program**\n",
    "\n",
    "Here is the output showing the adjacency matrix and the BFS traversal order:\n"
   ]
  },
  {
   "cell_type": "code",
   "execution_count": 6,
   "id": "425d6990",
   "metadata": {
    "scrolled": false
   },
   "outputs": [
    {
     "name": "stdout",
     "output_type": "stream",
     "text": [
      "Adjacency Matrix:\n",
      "0 1 0 1 0 \n",
      "1 0 1 1 1 \n",
      "0 1 0 1 0 \n",
      "1 1 1 0 1 \n",
      "0 1 0 1 0 \n",
      "\n",
      "Breadth-First Search (starting from vertex 0):\n",
      "0 1 3 2 4 "
     ]
    },
    {
     "data": {
      "text/plain": [
       "0"
      ]
     },
     "execution_count": 6,
     "metadata": {},
     "output_type": "execute_result"
    }
   ],
   "source": [
    "main()"
   ]
  },
  {
   "cell_type": "markdown",
   "id": "6c103cc8",
   "metadata": {},
   "source": [
    "Let’s go through the **Breadth-First Search (BFS)** traversal output step-by-step, based on the graph we have.\n",
    "\n",
    "### Initial Graph:\n",
    "```\n",
    "    (0)---(1)---(4)\n",
    "     |    / |    \n",
    "     |   /  |\n",
    "    (3)--(2)\n",
    "```\n",
    "\n",
    "### Adjacency Matrix Representation:\n",
    "```\n",
    "    0  1  2  3  4\n",
    "0 [ 0, 1, 0, 1, 0 ]\n",
    "1 [ 1, 0, 1, 1, 1 ]\n",
    "2 [ 0, 1, 0, 1, 0 ]\n",
    "3 [ 1, 1, 1, 0, 1 ]\n",
    "4 [ 0, 1, 0, 1, 0 ]\n",
    "```\n",
    "\n",
    "### Starting BFS from Vertex 0\n",
    "\n",
    "BFS explores vertices **level-by-level**, meaning it first visits all the direct neighbors of the starting vertex, then moves to the neighbors of those neighbors, and so on. BFS uses a **queue** to keep track of the vertices to explore next.\n",
    "\n",
    "#### Step-by-Step BFS Process:\n",
    "\n",
    "1. **Start at Vertex 0**:\n",
    "   - We enqueue vertex `0` and mark it as visited.\n",
    "   - The queue is: `[0]`\n",
    "   - The visited array is: `[1, 0, 0, 0, 0]`\n",
    "\n",
    "   Output: `0`\n",
    "\n",
    "2. **Explore Neighbors of Vertex 0**:\n",
    "   - Vertex `0` is connected to vertices `1` and `3` (based on the adjacency matrix).\n",
    "   - We enqueue vertices `1` and `3` and mark them as visited.\n",
    "   - The queue is: `[1, 3]`\n",
    "   - The visited array is: `[1, 1, 0, 1, 0]`\n",
    "\n",
    "3. **Dequeue and Explore Vertex 1**:\n",
    "   - We dequeue vertex `1` and visit it.\n",
    "   - Vertex `1` is connected to vertices `0`, `2`, `3`, and `4`.\n",
    "   - Vertices `0` and `3` have already been visited, so we ignore them.\n",
    "   - We enqueue vertices `2` and `4` and mark them as visited.\n",
    "   - The queue is: `[3, 2, 4]`\n",
    "   - The visited array is: `[1, 1, 1, 1, 1]`\n",
    "\n",
    "   Output: `1`\n",
    "\n",
    "4. **Dequeue and Explore Vertex 3**:\n",
    "   - We dequeue vertex `3` and visit it.\n",
    "   - Vertex `3` is connected to vertices `0`, `1`, `2`, and `4`.\n",
    "   - All of these vertices have already been visited, so no new vertices are enqueued.\n",
    "   - The queue is: `[2, 4]`\n",
    "\n",
    "   Output: `3`\n",
    "\n",
    "5. **Dequeue and Explore Vertex 2**:\n",
    "   - We dequeue vertex `2` and visit it.\n",
    "   - Vertex `2` is connected to vertices `1` and `3`, but both of these vertices have already been visited, so no new vertices are enqueued.\n",
    "   - The queue is: `[4]`\n",
    "\n",
    "   Output: `2`\n",
    "\n",
    "6. **Dequeue and Explore Vertex 4**:\n",
    "   - We dequeue vertex `4` and visit it.\n",
    "   - Vertex `4` is connected to vertices `1` and `3`, but both of these vertices have already been visited.\n",
    "   - The queue is now empty.\n",
    "\n",
    "   Output: `4`\n",
    "\n",
    "### Final BFS Traversal Output:\n",
    "```plaintext\n",
    "0 1 3 2 4\n",
    "```\n",
    "\n",
    "### Explanation of the BFS Output:\n",
    "- **Order of Traversal**:\n",
    "  - BFS starts at vertex `0`.\n",
    "  - It visits all direct neighbors of `0` first (vertices `1` and `3`).\n",
    "  - Then it proceeds to visit the neighbors of `1` (which include `2` and `4`).\n",
    "  - Finally, it visits the remaining vertices in the order they were enqueued (`2` and `4`).\n",
    "\n",
    "- **Key Points**:\n",
    "  - BFS explores a graph **level-by-level**: it first explores all direct neighbors of the current vertex before moving on to deeper levels.\n",
    "  - BFS uses a **queue** to keep track of the order in which vertices should be explored, which ensures that all neighbors of a vertex are explored before moving to deeper neighbors.\n",
    "\n",
    "### Difference Between DFS and BFS:\n",
    "- **DFS** explores as far as possible along each branch before backtracking, leading to a more \"depth-first\" approach.\n",
    "- **BFS** explores all vertices at the same level first, then moves deeper level by level, making it more \"breadth-first.\"\n",
    "\n",
    "In this example, the traversal order is different from what we would get with DFS. BFS traverses vertices `1` and `3` (the neighbors of `0`) before moving on to `2` and `4`.\n",
    "\n",
    "Let me know if you need further clarification!"
   ]
  },
  {
   "cell_type": "markdown",
   "id": "a3b26bb5",
   "metadata": {},
   "source": [
    "### Modify the Graph and Observe BFS Traversal"
   ]
  },
  {
   "cell_type": "code",
   "execution_count": 13,
   "id": "bd5d2641",
   "metadata": {},
   "outputs": [
    {
     "name": "stdout",
     "output_type": "stream",
     "text": [
      "\n",
      "Breadth-First Search (starting from vertex 0):\n",
      "0 1 3 2 4 "
     ]
    }
   ],
   "source": [
    "Graph g2(5); // Create a graph with 5 vertices\n",
    "\n",
    "// Add edges between vertices\n",
    "g2.addEdge(0, 1);\n",
    "g2.addEdge(0, 3);\n",
    "g2.addEdge(1, 2);\n",
    "g2.addEdge(1, 3);\n",
    "g2.addEdge(1, 4);\n",
    "g2.addEdge(2, 3);\n",
    "g2.addEdge(3, 4);\n",
    "\n",
    "// Perform BFS starting from vertex 0\n",
    "cout << \"\\nBreadth-First Search (starting from vertex 0):\" << endl;\n",
    "g2.BFS(0);"
   ]
  },
  {
   "cell_type": "code",
   "execution_count": 14,
   "id": "a6d10c2c",
   "metadata": {
    "scrolled": true
   },
   "outputs": [
    {
     "name": "stdout",
     "output_type": "stream",
     "text": [
      "\n",
      "Breadth-First Search (starting from vertex 0):\n",
      "0 1 3 4 2 "
     ]
    }
   ],
   "source": [
    "//YOUR CODE HERE\n",
    "\n",
    "//Add a new edge between vertices 0 and 4\n",
    "\n",
    "// Perform BFS starting from vertex 0\n",
    "cout << \"\\nBreadth-First Search (starting from vertex 0):\" << endl;\n",
    "\n",
    "//undo the change\n",
    "g2.removeEdge(0,4);"
   ]
  },
  {
   "cell_type": "code",
   "execution_count": 15,
   "id": "51e5ce1d",
   "metadata": {},
   "outputs": [
    {
     "name": "stdout",
     "output_type": "stream",
     "text": [
      "\n",
      "Breadth-First Search (starting from vertex 0):\n",
      "0 1 3 2 4 "
     ]
    }
   ],
   "source": [
    "//YOUR CODE HERE\n",
    "//Remove the edge between vertices 1 and 4.\n",
    "\n",
    "// Perform BFS starting from vertex 0\n",
    "cout << \"\\nBreadth-First Search (starting from vertex 0):\" << endl;\n"
   ]
  },
  {
   "cell_type": "markdown",
   "id": "be32edec",
   "metadata": {},
   "source": [
    "### **Conclusion**\n",
    "\n",
    "In this notebook, we implemented **Breadth-First Search (BFS)** in C++ using an adjacency matrix. We observed how BFS explores vertices level-by-level and prints the vertices in the order they are visited.\n",
    "\n",
    "### **Next Steps**:\n",
    "- Try modifying the graph by adding or removing edges and observe how the BFS traversal changes.\n",
    "- Can you modify the BFS code to handle disconnected graphs? What would need to change?\n",
    "\n",
    "Happy coding!\n"
   ]
  }
 ],
 "metadata": {
  "kernelspec": {
   "display_name": "C++14",
   "language": "C++14",
   "name": "xcpp14"
  },
  "language_info": {
   "codemirror_mode": "text/x-c++src",
   "file_extension": ".cpp",
   "mimetype": "text/x-c++src",
   "name": "c++",
   "version": "14"
  }
 },
 "nbformat": 4,
 "nbformat_minor": 5
}
